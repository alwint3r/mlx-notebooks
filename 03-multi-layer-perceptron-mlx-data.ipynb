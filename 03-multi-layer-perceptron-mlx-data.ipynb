{
 "cells": [
  {
   "cell_type": "code",
   "execution_count": 1,
   "id": "5a194b79-d4b7-4dda-8982-441316198888",
   "metadata": {},
   "outputs": [],
   "source": [
    "import mlx.core as mx\n",
    "import mlx.nn as nn\n",
    "import mlx.optimizers as optim\n",
    "from mlx.data.datasets import load_mnist"
   ]
  },
  {
   "cell_type": "code",
   "execution_count": 2,
   "id": "735099ed-3182-4e90-a47c-af0429f92ffc",
   "metadata": {},
   "outputs": [
    {
     "data": {
      "text/plain": [
       "(60000, 10000)"
      ]
     },
     "execution_count": 2,
     "metadata": {},
     "output_type": "execute_result"
    }
   ],
   "source": [
    "# Load MNIST dataset\n",
    "# If not exists, the mlx.data package will download\n",
    "# the dataset into your local directory\n",
    "# you can provide `root` arguments to set the destination\n",
    "mnist_train = load_mnist(train=True)\n",
    "mnist_test = load_mnist(train=False)\n",
    "\n",
    "len(mnist_train), len(mnist_test)"
   ]
  },
  {
   "cell_type": "code",
   "execution_count": 3,
   "id": "bddc409d-ed2f-4481-a9da-ea9084c3b3f7",
   "metadata": {},
   "outputs": [
    {
     "data": {
      "text/plain": [
       "((784,), ())"
      ]
     },
     "execution_count": 3,
     "metadata": {},
     "output_type": "execute_result"
    }
   ],
   "source": [
    "def get_streamed_data(data, batch_size=0, shuffled=True):\n",
    "    buffer = data.shuffle() if shuffled else data\n",
    "    stream = buffer.to_stream()\n",
    "    stream = stream.key_transform(\"image\", lambda x: x.astype(\"float32\").reshape(-1,))\n",
    "    stream = stream.batch(batch_size) if batch_size > 0 else stream\n",
    "    return stream.prefetch(4, 2)\n",
    "\n",
    "mnist_trainstream = get_streamed_data(mnist_train)\n",
    "\n",
    "## Without .reshape(-1,), the shape of the batch is (n, 28, 28, 1)\n",
    "## With .reshape(-1,) the shape of the batch is (n, 784) -> easier to handle with fully-connected layer\n",
    "\n",
    "# Uncomment below lines to see the shape\n",
    "first_batch = next(mnist_trainstream)\n",
    "X, y = first_batch[\"image\"], first_batch[\"label\"]\n",
    "X.shape, y.shape"
   ]
  },
  {
   "cell_type": "code",
   "execution_count": 4,
   "id": "c32c719a-5591-41e6-8097-95ae12535c61",
   "metadata": {},
   "outputs": [
    {
     "data": {
      "text/plain": [
       "MLP(\n",
       "  (sequential): Sequential(\n",
       "    (layers.0): Linear(input_dims=784, output_dims=64, bias=True)\n",
       "    (layers.1): ReLU()\n",
       "    (layers.2): Linear(input_dims=64, output_dims=64, bias=True)\n",
       "    (layers.3): ReLU()\n",
       "    (layers.4): Linear(input_dims=64, output_dims=64, bias=True)\n",
       "    (layers.5): ReLU()\n",
       "    (layers.6): Linear(input_dims=64, output_dims=10, bias=True)\n",
       "  )\n",
       ")"
      ]
     },
     "execution_count": 4,
     "metadata": {},
     "output_type": "execute_result"
    }
   ],
   "source": [
    "class MLP(nn.Module):\n",
    "    def __init__(self, input_dims, hidden_dims, output_dims):\n",
    "        super().__init__()\n",
    "        self.sequential = nn.Sequential(\n",
    "            nn.Linear(input_dims=input_dims, output_dims=hidden_dims),\n",
    "            nn.ReLU(),\n",
    "            nn.Linear(input_dims=hidden_dims, output_dims=hidden_dims),\n",
    "            nn.ReLU(),\n",
    "            nn.Linear(input_dims=hidden_dims, output_dims=hidden_dims),\n",
    "            nn.ReLU(),\n",
    "            nn.Linear(input_dims=hidden_dims, output_dims=output_dims)\n",
    "        )\n",
    "    def __call__(self, x):\n",
    "        return self.sequential(x)\n",
    "\n",
    "model = MLP(input_dims=784, hidden_dims=64, output_dims=10)\n",
    "mx.eval(model.parameters())\n",
    "model"
   ]
  },
  {
   "cell_type": "code",
   "execution_count": 5,
   "id": "fcedfadf-ddf6-434d-a3f7-1dbaa3a65b57",
   "metadata": {},
   "outputs": [],
   "source": [
    "def loss_fn(model, X, y):\n",
    "    logits = model(X)\n",
    "    return nn.losses.cross_entropy(logits, y, reduction=\"mean\")\n",
    "\n",
    "def eval_fn(model, X, y):\n",
    "    logits = model(X)\n",
    "    pred = nn.softmax(logits)\n",
    "    return mx.mean(mx.argmax(pred, axis=1) == y)\n"
   ]
  },
  {
   "cell_type": "code",
   "execution_count": 6,
   "id": "8b632851-1f68-4add-a2e7-30ab18269f18",
   "metadata": {},
   "outputs": [
    {
     "name": "stdout",
     "output_type": "stream",
     "text": [
      "Epoch: 0 | Train Loss: 0.45997126501495555, Train Accuracy: 0.8929889959804083 | Test Accuracy: 0.8486567579519254\n",
      "Epoch: 1 | Train Loss: 0.19658319265284438, Train Accuracy: 0.9647955820915547 | Test Accuracy: 0.9472843450479234\n",
      "Epoch: 2 | Train Loss: 0.15365563917084266, Train Accuracy: 0.9763999904616404 | Test Accuracy: 0.9420926517571885\n",
      "Epoch: 3 | Train Loss: 0.1275998764371468, Train Accuracy: 0.9809565670409445 | Test Accuracy: 0.8394568690095847\n",
      "Epoch: 4 | Train Loss: 0.11648301098503615, Train Accuracy: 0.9849780835842682 | Test Accuracy: 0.9364017571884984\n",
      "Epoch: 5 | Train Loss: 0.09625106829595058, Train Accuracy: 0.9879709664811479 | Test Accuracy: 0.9624600638977636\n",
      "Epoch: 6 | Train Loss: 0.08537978987268945, Train Accuracy: 0.9897938829787234 | Test Accuracy: 0.9615615015974441\n",
      "Epoch: 7 | Train Loss: 0.07671415671643059, Train Accuracy: 0.9916909427966102 | Test Accuracy: 0.9472843450479234\n",
      "Epoch: 8 | Train Loss: 0.07125662799956183, Train Accuracy: 0.9926926640130705 | Test Accuracy: 0.9123402555910544\n",
      "Epoch: 9 | Train Loss: 0.06664450726610549, Train Accuracy: 0.9935608146038462 | Test Accuracy: 0.9667531948881789\n",
      "Epoch: 10 | Train Loss: 0.05922029352885611, Train Accuracy: 0.9949800531914894 | Test Accuracy: 0.9678514376996805\n",
      "Epoch: 11 | Train Loss: 0.05433937565998194, Train Accuracy: 0.9953125 | Test Accuracy: 0.9686501597444089\n",
      "Epoch: 12 | Train Loss: 0.05057157575291522, Train Accuracy: 0.9958790139949069 | Test Accuracy: 0.9698482428115016\n",
      "Epoch: 13 | Train Loss: 0.04642430270843683, Train Accuracy: 0.9965425531914893 | Test Accuracy: 0.9646565495207667\n",
      "Epoch: 14 | Train Loss: 0.04284542997942326, Train Accuracy: 0.9971908244680852 | Test Accuracy: 0.9716453674121406\n",
      "Epoch: 15 | Train Loss: 0.039315800075518326, Train Accuracy: 0.9976562497463632 | Test Accuracy: 0.9708466453674122\n",
      "Epoch: 16 | Train Loss: 0.03514329162307905, Train Accuracy: 0.9980137711864406 | Test Accuracy: 0.9696485623003195\n",
      "Epoch: 17 | Train Loss: 0.03336545996667849, Train Accuracy: 0.998146186440678 | Test Accuracy: 0.8590255591054313\n",
      "Epoch: 18 | Train Loss: 0.04863557989134434, Train Accuracy: 0.9964428191489362 | Test Accuracy: 0.97064696485623\n",
      "Epoch: 19 | Train Loss: 0.02880571100543788, Train Accuracy: 0.9987699468085106 | Test Accuracy: 0.9701477635782748\n",
      "Epoch: 20 | Train Loss: 0.02593044449817541, Train Accuracy: 0.9990234375 | Test Accuracy: 0.9719448881789138\n",
      "Epoch: 21 | Train Loss: 0.023857724357475626, Train Accuracy: 0.998969414893617 | Test Accuracy: 0.9709464856230032\n",
      "Epoch: 22 | Train Loss: 0.02232138273563791, Train Accuracy: 0.9990621308062939 | Test Accuracy: 0.96685303514377\n",
      "Epoch: 23 | Train Loss: 0.02139023349273129, Train Accuracy: 0.9985599841101694 | Test Accuracy: 0.6891972843450479\n",
      "Epoch: 24 | Train Loss: 1.9668194082189114, Train Accuracy: 0.742403590425532 | Test Accuracy: 0.8918730031948882\n",
      "Epoch: 25 | Train Loss: 0.2885791706912061, Train Accuracy: 0.938372858534468 | Test Accuracy: 0.9199281150159745\n",
      "Epoch: 26 | Train Loss: 0.22473583484583712, Train Accuracy: 0.9542331561129144 | Test Accuracy: 0.9379992012779552\n",
      "Epoch: 27 | Train Loss: 0.19296269578502534, Train Accuracy: 0.9621493481575174 | Test Accuracy: 0.9297124600638977\n",
      "Epoch: 28 | Train Loss: 0.16912552929939106, Train Accuracy: 0.9670445269726692 | Test Accuracy: 0.9425918530351438\n",
      "Epoch: 29 | Train Loss: 0.15663879569935596, Train Accuracy: 0.9708899779845093 | Test Accuracy: 0.7926317891373802\n",
      "Epoch: 30 | Train Loss: 0.1453298844238545, Train Accuracy: 0.9742686170212767 | Test Accuracy: 0.9515774760383386\n",
      "Epoch: 31 | Train Loss: 0.1314476505556005, Train Accuracy: 0.9771322684085115 | Test Accuracy: 0.955770766773163\n",
      "Epoch: 32 | Train Loss: 0.11916148290038109, Train Accuracy: 0.9797706117021276 | Test Accuracy: 0.9452875399361023\n",
      "Epoch: 33 | Train Loss: 0.11431972565666093, Train Accuracy: 0.9811473781779662 | Test Accuracy: 0.9553714057507987\n",
      "Epoch: 34 | Train Loss: 0.10829123504301336, Train Accuracy: 0.9825465425531915 | Test Accuracy: 0.9561701277955271\n",
      "Epoch: 35 | Train Loss: 0.10299167381125991, Train Accuracy: 0.9838122351694916 | Test Accuracy: 0.9452875399361023\n",
      "Epoch: 36 | Train Loss: 0.10043628946325536, Train Accuracy: 0.9844959057488684 | Test Accuracy: 0.9021565495207667\n",
      "Epoch: 37 | Train Loss: 0.10420897823381932, Train Accuracy: 0.984336120524305 | Test Accuracy: 0.9561701277955271\n",
      "Epoch: 38 | Train Loss: 0.0904338834292077, Train Accuracy: 0.9867908995202247 | Test Accuracy: 0.955770766773163\n",
      "Epoch: 39 | Train Loss: 0.08743630803458519, Train Accuracy: 0.9878807479547242 | Test Accuracy: 0.9533746006389776\n",
      "Epoch: 40 | Train Loss: 0.08344549752296286, Train Accuracy: 0.9878989361702127 | Test Accuracy: 0.955870607028754\n",
      "Epoch: 41 | Train Loss: 0.08146990271348317, Train Accuracy: 0.9881277687973895 | Test Accuracy: 0.9232228434504792\n",
      "Epoch: 42 | Train Loss: 0.07872820764066692, Train Accuracy: 0.9889184398854033 | Test Accuracy: 0.9604632587859425\n",
      "Epoch: 43 | Train Loss: 0.07602434271669134, Train Accuracy: 0.9899767287234043 | Test Accuracy: 0.9611621405750799\n",
      "Epoch: 44 | Train Loss: 0.07307444481932103, Train Accuracy: 0.990059840425532 | Test Accuracy: 0.9547723642172524\n",
      "Epoch: 45 | Train Loss: 0.07131463810008891, Train Accuracy: 0.9906221024533536 | Test Accuracy: 0.9626597444089456\n",
      "Epoch: 46 | Train Loss: 0.06902821796109616, Train Accuracy: 0.9908798993644068 | Test Accuracy: 0.9456869009584664\n",
      "Epoch: 47 | Train Loss: 0.06679658972202464, Train Accuracy: 0.9909962324385947 | Test Accuracy: 0.9571685303514377\n",
      "Epoch: 48 | Train Loss: 0.0662218682864245, Train Accuracy: 0.991661126055616 | Test Accuracy: 0.9514776357827476\n",
      "Epoch: 49 | Train Loss: 0.06322796599186481, Train Accuracy: 0.9923260196726373 | Test Accuracy: 0.9569688498402555\n"
     ]
    }
   ],
   "source": [
    "# Start training loop\n",
    "\n",
    "epochs = 50\n",
    "loss_and_grad_fn = nn.value_and_grad(model, loss_fn)\n",
    "\n",
    "\n",
    "optimizer = optim.SGD(learning_rate=0.01)\n",
    "for epoch in range(epochs):\n",
    "    epoch_loss = 0.0\n",
    "    train_acc = 0.0\n",
    "    epoch_counter = 0\n",
    "    for batch in get_streamed_data(mnist_train, batch_size=256):\n",
    "        X, y = batch[\"image\"], batch[\"label\"]\n",
    "        # Need to convert X and y into mlx.core.array type\n",
    "        X, y = mx.array(X), mx.array(y)\n",
    "        # Compute loss and its gradient with respect to the model's trainable parameters\n",
    "        loss, grad = loss_and_grad_fn(model, X, y)\n",
    "        # Step the optimizer\n",
    "        optimizer.update(model, grad)\n",
    "        # Evaluate computational graph\n",
    "        mx.eval(model.parameters(), optimizer.state)\n",
    "        epoch_loss += loss.item()\n",
    "        epoch_counter += 1\n",
    "        train_acc += eval_fn(model, X, y).item()\n",
    "    epoch_loss /= epoch_counter\n",
    "    train_acc /= epoch_counter\n",
    "\n",
    "    test_acc_counter = 0.0\n",
    "    test_acc = 0.0\n",
    "    for batch in get_streamed_data(mnist_test, batch_size=32, shuffled=False):\n",
    "        X, y = batch[\"image\"], batch[\"label\"]\n",
    "        X, y = mx.array(X), mx.array(y)\n",
    "        acc = eval_fn(model, X, y)\n",
    "        test_acc += acc.item()\n",
    "        test_acc_counter += 1\n",
    "    test_acc /= test_acc_counter\n",
    "    print(f\"Epoch: {epoch} | Train Loss: {epoch_loss}, Train Accuracy: {train_acc} | Test Accuracy: {test_acc}\")\n",
    "        "
   ]
  },
  {
   "cell_type": "code",
   "execution_count": 7,
   "id": "c8962b18-b785-4f27-aa02-31004b55a135",
   "metadata": {},
   "outputs": [
    {
     "name": "stdout",
     "output_type": "stream",
     "text": [
      "Logits: array([[-14.2469, -1.9668, -11.8256, ..., -1.17542, 6.20511, -0.116776]], dtype=float32)\n",
      "Softmax-ed: array([[2.21079e-20, 4.76115e-15, 2.48945e-19, ..., 1.05052e-14, 1.6855e-11, 3.02808e-14]], dtype=float32)\n",
      "Predicted label: 5, True label: 5 | Confidence level: 1.0\n"
     ]
    }
   ],
   "source": [
    "# Testing out with one random sample\n",
    "test_stream = get_streamed_data(mnist_test, batch_size=1)\n",
    "test_batch = next(test_stream)\n",
    "X, y = mx.array(test_batch[\"image\"]), mx.array(test_batch[\"label\"])\n",
    "\n",
    "# See how the model produce logits\n",
    "logits = model(X)\n",
    "print(f\"Logits: {logits}\")\n",
    "\n",
    "# See we can compute the softmax from the logits\n",
    "softmax = nn.softmax(logits)\n",
    "print(f\"Softmax-ed: {softmax}\")\n",
    "\n",
    "# Get predicted label and true label\n",
    "predicted_label = mx.argmax(softmax, axis=1).item()\n",
    "confidence_level = mx.max(softmax, axis=1).item()\n",
    "print(f\"Predicted label: {predicted_label}, True label: {y.item()} | Confidence level: {confidence_level}\")"
   ]
  },
  {
   "cell_type": "code",
   "execution_count": 8,
   "id": "b243ba62-9932-421b-9359-cf87f19d2b83",
   "metadata": {},
   "outputs": [
    {
     "name": "stdout",
     "output_type": "stream",
     "text": [
      "Precision: 0.9575220002943606\n",
      "Recall: 0.9569\n",
      "F1 Score: 0.9569227123077513\n"
     ]
    }
   ],
   "source": [
    "# get precision, recall, and f1-score\n",
    "from sklearn.metrics import f1_score, precision_score, recall_score\n",
    "import numpy as np\n",
    "\n",
    "y_true = []\n",
    "y_pred = []\n",
    "for batch in get_streamed_data(mnist_test, batch_size=32, shuffled=False):\n",
    "    X, y = batch[\"image\"], batch[\"label\"]\n",
    "    X, y = mx.array(X), mx.array(y)\n",
    "    logits = model(X)\n",
    "    prediction = mx.argmax(mx.softmax(logits), axis=1)\n",
    "    y_true = y_true + y.tolist()\n",
    "    y_pred = y_pred + prediction.tolist()\n",
    "    \n",
    "y_true = np.array(y_true)\n",
    "y_pred = np.array(y_pred)\n",
    "\n",
    "precision = precision_score(y_true, y_pred, average=\"weighted\")\n",
    "recall = recall_score(y_true, y_pred, average=\"weighted\")\n",
    "f1 = f1_score(y_true, y_pred, average=\"weighted\")\n",
    "print(f\"Precision: {precision}\\nRecall: {recall}\\nF1 Score: {f1}\")"
   ]
  },
  {
   "cell_type": "code",
   "execution_count": 9,
   "id": "64b090fa-e0a2-466f-9775-6ed6426d4679",
   "metadata": {},
   "outputs": [
    {
     "data": {
      "image/png": "[encoded data removed]",
      "text/plain": [
       "<Figure size 640x480 with 2 Axes>"
      ]
     },
     "metadata": {},
     "output_type": "display_data"
    }
   ],
   "source": [
    "from sklearn.metrics import confusion_matrix, ConfusionMatrixDisplay\n",
    "import matplotlib.pyplot as plt\n",
    "\n",
    "conf_matrix = confusion_matrix(y_true, y_pred)\n",
    "display = ConfusionMatrixDisplay(conf_matrix)\n",
    "display.plot(cmap=plt.cm.Blues)\n",
    "plt.show()"
   ]
  },
  {
   "cell_type": "code",
   "execution_count": null,
   "id": "b837f3ec-ac42-4259-83fe-3768b393eea7",
   "metadata": {},
   "outputs": [],
   "source": []
  }
 ],
 "metadata": {
  "kernelspec": {
   "display_name": "Python 3 (ipykernel)",
   "language": "python",
   "name": "python3"
  },
  "language_info": {
   "codemirror_mode": {
    "name": "ipython",
    "version": 3
   },
   "file_extension": ".py",
   "mimetype": "text/x-python",
   "name": "python",
   "nbconvert_exporter": "python",
   "pygments_lexer": "ipython3",
   "version": "3.11.8"
  }
 },
 "nbformat": 4,
 "nbformat_minor": 5
}

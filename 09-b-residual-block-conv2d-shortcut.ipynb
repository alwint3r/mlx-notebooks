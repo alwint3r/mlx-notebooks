{
 "cells": [
  {
   "cell_type": "code",
   "execution_count": 1,
   "id": "6590edaa-1e97-4e11-bbcb-aec8e2f3805d",
   "metadata": {},
   "outputs": [],
   "source": [
    "import mlx.core as mx\n",
    "import mlx.nn as nn\n",
    "import matplotlib.pyplot as plt\n",
    "from mlx.data import datasets"
   ]
  },
  {
   "cell_type": "code",
   "execution_count": 4,
   "id": "0024346d-df09-41b7-bfac-17c622b7480b",
   "metadata": {},
   "outputs": [],
   "source": [
    "cifar100_train = datasets.load_cifar100(train=True)\n",
    "\n",
    "cifar100_example = next(cifar100_train.batch(1).to_stream())\n",
    "original_input_shape = cifar100_example[\"image\"].shape\n",
    "X = mx.array(cifar100_example[\"image\"].astype(\"float32\"))"
   ]
  },
  {
   "cell_type": "code",
   "execution_count": 5,
   "id": "d959b67c-df69-49e1-83cd-bb1b913f8411",
   "metadata": {},
   "outputs": [],
   "source": [
    "class ResidualBlock(nn.Module):\n",
    "    def __init__(self, in_channels, out_dims, stride):\n",
    "        self.conv1 = nn.Conv2d(in_channels=in_channels, out_channels=out_dims, kernel_size=3, stride=stride, padding=1, bias=False)\n",
    "        self.bn1 = nn.BatchNorm(num_features=out_dims)\n",
    "        self.conv2 = nn.Conv2d(in_channels=out_dims, out_channels=out_dims, kernel_size=3, padding=1, bias=False)\n",
    "        self.bn2 = nn.BatchNorm(num_features=out_dims)\n",
    "        self.shortcut = nn.Sequential()\n",
    "        if stride != 1:\n",
    "            self.shortcut = nn.Sequential(\n",
    "                nn.Conv2d(in_channels=in_channels, out_channels=out_dims, stride=stride, kernel_size=1, bias=False),\n",
    "                nn.BatchNorm(num_features=out_dims)\n",
    "            )\n",
    "    def __call__(self, x):\n",
    "        y = nn.relu(self.bn1(self.conv1(x)))\n",
    "        y = self.bn2(self.conv2(y))\n",
    "        y += self.shortcut(x)\n",
    "        return y\n"
   ]
  },
  {
   "cell_type": "code",
   "execution_count": 6,
   "id": "c1c52870-ec17-4d8a-915e-d512b0aeea10",
   "metadata": {},
   "outputs": [],
   "source": [
    "class Net(nn.Module):\n",
    "    def __init__(self, in_channels, num_blocks):\n",
    "        self.in_planes = 16\n",
    "        self.conv1 = nn.Conv2d(kernel_size=3, in_channels=in_channels, out_channels=self.in_planes, stride=2, padding=1)\n",
    "        self.res1 = self._make_layer(16, num_blocks[0], stride=1)\n",
    "        self.res2 = self._make_layer(32, num_blocks[1], stride=2)\n",
    "        self.res3 = self._make_layer(64, num_blocks[1], stride=2)\n",
    "    def _make_layer(self, channels, num_blocks, stride):\n",
    "        layers = []\n",
    "        for i in range(num_blocks):\n",
    "            layers.append(ResidualBlock(self.in_planes, channels, stride=stride if i == 0 else 1))\n",
    "            self.in_planes = channels\n",
    "        return nn.Sequential(*layers)\n",
    "    def __call__(self, x):\n",
    "        y = self.conv1(x)\n",
    "        y = self.res1(y)\n",
    "        y = self.res2(y)\n",
    "        y = self.res3(y)\n",
    "        return y\n",
    "        "
   ]
  },
  {
   "cell_type": "code",
   "execution_count": 7,
   "id": "430fb0a2-5e25-4231-a88f-4f0e7b7874e2",
   "metadata": {},
   "outputs": [],
   "source": [
    "net = Net(in_channels=X.shape[-1], num_blocks=[3, 3, 3])"
   ]
  },
  {
   "cell_type": "code",
   "execution_count": 8,
   "id": "50e18763-1a35-44dc-a0be-d8554ed270d5",
   "metadata": {},
   "outputs": [
    {
     "data": {
      "text/plain": [
       "(1, 4, 4, 64)"
      ]
     },
     "execution_count": 8,
     "metadata": {},
     "output_type": "execute_result"
    }
   ],
   "source": [
    "y = net(X)\n",
    "y.shape"
   ]
  },
  {
   "cell_type": "code",
   "execution_count": 11,
   "id": "6a14cedc-ed0f-417c-93fa-418dbfa3a4a0",
   "metadata": {},
   "outputs": [
    {
     "data": {
      "image/png": "[encoded data removed]",
      "text/plain": [
       "<Figure size 640x480 with 64 Axes>"
      ]
     },
     "metadata": {},
     "output_type": "display_data"
    }
   ],
   "source": [
    "n_cols = 8\n",
    "n_rows = y.shape[-1] // n_cols\n",
    "for i in range(y.shape[-1]):\n",
    "    fig = plt.subplot(n_rows, n_cols, i + 1)\n",
    "    fig.imshow(y[0, :, :, i], cmap=\"gray\")\n",
    "    fig.axis(\"off\")\n",
    "\n",
    "plt.show()"
   ]
  },
  {
   "cell_type": "code",
   "execution_count": 12,
   "id": "3bccd1ed-67d9-4d22-9f6b-76986e442b37",
   "metadata": {},
   "outputs": [
    {
     "data": {
      "image/png": "[encoded data removed]",
      "text/plain": [
       "<Figure size 640x480 with 64 Axes>"
      ]
     },
     "metadata": {},
     "output_type": "display_data"
    }
   ],
   "source": [
    "y = nn.relu(y)\n",
    "n_cols = 8\n",
    "n_rows = y.shape[-1] // n_cols\n",
    "for i in range(y.shape[-1]):\n",
    "    fig = plt.subplot(n_rows, n_cols, i + 1)\n",
    "    fig.imshow(y[0, :, :, i], cmap=\"gray\")\n",
    "    fig.axis(\"off\")\n",
    "\n",
    "plt.show()"
   ]
  },
  {
   "cell_type": "code",
   "execution_count": null,
   "id": "d651ef7f-e9fc-49d6-aba9-0a7c85eeb4ae",
   "metadata": {},
   "outputs": [],
   "source": []
  }
 ],
 "metadata": {
  "kernelspec": {
   "display_name": "Python 3 (ipykernel)",
   "language": "python",
   "name": "python3"
  },
  "language_info": {
   "codemirror_mode": {
    "name": "ipython",
    "version": 3
   },
   "file_extension": ".py",
   "mimetype": "text/x-python",
   "name": "python",
   "nbconvert_exporter": "python",
   "pygments_lexer": "ipython3",
   "version": "3.11.8"
  }
 },
 "nbformat": 4,
 "nbformat_minor": 5
}

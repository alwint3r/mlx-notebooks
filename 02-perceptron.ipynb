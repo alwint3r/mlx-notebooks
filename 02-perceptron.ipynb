{
 "cells": [
  {
   "cell_type": "code",
   "execution_count": 1,
   "id": "dfd1d92a-7df6-46f9-98b7-bdd683d18925",
   "metadata": {},
   "outputs": [],
   "source": [
    "import mlx.core as mx\n",
    "import mlx.nn as nn\n",
    "from sklearn import datasets"
   ]
  },
  {
   "cell_type": "code",
   "execution_count": 2,
   "id": "768fa78a-1685-4008-b0f3-6fff692c0466",
   "metadata": {},
   "outputs": [
    {
     "data": {
      "text/plain": [
       "((100000, 4), (100000,))"
      ]
     },
     "execution_count": 2,
     "metadata": {},
     "output_type": "execute_result"
    }
   ],
   "source": [
    "# Create toy dataset\n",
    "\n",
    "X, y = datasets.make_blobs(\n",
    "    n_samples=100000,\n",
    "    centers=2,\n",
    "    n_features=4,\n",
    "    random_state=42\n",
    ")\n",
    "\n",
    "X.shape, y.shape"
   ]
  },
  {
   "cell_type": "code",
   "execution_count": 3,
   "id": "c5ec9da1-6151-458e-b89d-73ef43e663a5",
   "metadata": {},
   "outputs": [
    {
     "data": {
      "text/plain": [
       "(4,)"
      ]
     },
     "execution_count": 3,
     "metadata": {},
     "output_type": "execute_result"
    }
   ],
   "source": [
    "# Initialize weights matrix and bias\n",
    "\n",
    "mx.random.seed(1234)\n",
    "\n",
    "b = mx.random.normal(shape=[1])\n",
    "W = mx.random.normal(shape=(X.shape[-1],))\n",
    "W.shape"
   ]
  },
  {
   "cell_type": "code",
   "execution_count": 4,
   "id": "034d5445-ff22-4388-b295-01004e07e348",
   "metadata": {},
   "outputs": [
    {
     "data": {
      "text/plain": [
       "((80000, 4), (20000, 4))"
      ]
     },
     "execution_count": 4,
     "metadata": {},
     "output_type": "execute_result"
    }
   ],
   "source": [
    "# Split training and test data set\n",
    "from sklearn.model_selection import train_test_split\n",
    "\n",
    "X_train, X_test, y_train, y_test = train_test_split(X, y, test_size=0.2, random_state=42)\n",
    "\n",
    "X_train.shape, X_test.shape"
   ]
  },
  {
   "cell_type": "code",
   "execution_count": 5,
   "id": "5dd4730d-f274-4c05-80ab-4e2650d5ba15",
   "metadata": {},
   "outputs": [
    {
     "name": "stdout",
     "output_type": "stream",
     "text": [
      "Epoch: 0 | Loss: array(0.505014, dtype=float32)\n",
      "Epoch: 10 | Loss: array(0.504643, dtype=float32)\n",
      "Epoch: 20 | Loss: array(0.504379, dtype=float32)\n",
      "Epoch: 30 | Loss: array(0.504182, dtype=float32)\n",
      "Epoch: 40 | Loss: array(0.504029, dtype=float32)\n",
      "Epoch: 50 | Loss: array(0.503907, dtype=float32)\n",
      "Epoch: 60 | Loss: array(0.503808, dtype=float32)\n",
      "Epoch: 70 | Loss: array(0.503725, dtype=float32)\n",
      "Epoch: 80 | Loss: array(0.503656, dtype=float32)\n",
      "Epoch: 90 | Loss: array(0.503596, dtype=float32)\n"
     ]
    }
   ],
   "source": [
    "# Training loop\n",
    "epochs = 100\n",
    "\n",
    "def predict_logits(X, W, b):\n",
    "    matmul = X @ W + b\n",
    "    return nn.sigmoid(matmul)\n",
    "\n",
    "def loss_fn(X, W, b, y_true):\n",
    "    logits = predict_logits(X, W, b)\n",
    "    return nn.losses.binary_cross_entropy(logits, y_true)\n",
    "\n",
    "# Compute gradient with respect to the argument at index-1: W\n",
    "value_and_grad = mx.value_and_grad(loss_fn, 1)\n",
    "\n",
    "X_train = mx.array(X_train)\n",
    "y_train = mx.array(y_train)\n",
    "\n",
    "for epoch in range(epochs):\n",
    "    loss, grad = value_and_grad(X_train, W, b, y_train)\n",
    "    W = W - 0.1 * grad\n",
    "    mx.eval(W)\n",
    "    if epoch % 10 == 0:\n",
    "        print(f\"Epoch: {epoch} | Loss: {loss}\")"
   ]
  },
  {
   "cell_type": "code",
   "execution_count": 6,
   "id": "3baef845-4a29-4312-b82a-e46b36d6ac75",
   "metadata": {},
   "outputs": [
    {
     "name": "stdout",
     "output_type": "stream",
     "text": [
      "Accuracy: 1.0\n"
     ]
    }
   ],
   "source": [
    "# Test loop\n",
    "correct_nums = 0\n",
    "X_test = mx.array(X_test)\n",
    "y_test = mx.array(y_test)\n",
    "\n",
    "for X, y in zip(X_test, y_test):\n",
    "    logits = predict_logits(X, W, b)\n",
    "    prediction = mx.round(logits)\n",
    "    if prediction == y:\n",
    "        correct_nums += 1\n",
    "\n",
    "accuracy = correct_nums / len(y_test)\n",
    "print(f\"Accuracy: {accuracy}\")"
   ]
  },
  {
   "cell_type": "code",
   "execution_count": null,
   "id": "1c55b097-86fa-4e06-9823-fea44ef515bc",
   "metadata": {},
   "outputs": [],
   "source": []
  }
 ],
 "metadata": {
  "kernelspec": {
   "display_name": "Python 3 (ipykernel)",
   "language": "python",
   "name": "python3"
  },
  "language_info": {
   "codemirror_mode": {
    "name": "ipython",
    "version": 3
   },
   "file_extension": ".py",
   "mimetype": "text/x-python",
   "name": "python",
   "nbconvert_exporter": "python",
   "pygments_lexer": "ipython3",
   "version": "3.11.8"
  }
 },
 "nbformat": 4,
 "nbformat_minor": 5
}

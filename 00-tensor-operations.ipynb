{
 "cells": [
  {
   "cell_type": "code",
   "execution_count": 8,
   "id": "a55fe96d-3f4b-4133-b3d6-d98419f6c2a3",
   "metadata": {},
   "outputs": [
    {
     "name": "stdout",
     "output_type": "stream",
     "text": [
      "A.shape: (1, 3, 32, 32)\n",
      "(3, 32, 32)\n",
      "(3, 32, 32)\n"
     ]
    }
   ],
   "source": [
    "import mlx.core as mx\n",
    "\n",
    "# manually set seed\n",
    "mx.random.seed(42)\n",
    "\n",
    "A = mx.random.normal((1, 3, 32, 32))\n",
    "print(f\"A.shape: {A.shape}\")\n",
    "\n",
    "# Remove the 1 dimension\n",
    "print(A.squeeze(axis=0).shape)\n",
    "\n",
    "print(A.squeeze().shape)"
   ]
  },
  {
   "cell_type": "code",
   "execution_count": 16,
   "id": "6b368d07-6792-4101-ab25-beb778610d52",
   "metadata": {},
   "outputs": [
    {
     "data": {
      "text/plain": [
       "array([-10, -9, -8, ..., 7, 8, 9], dtype=float32)"
      ]
     },
     "execution_count": 16,
     "metadata": {},
     "output_type": "execute_result"
    }
   ],
   "source": [
    "# Generating a range\n",
    "# similar to torch.arange\n",
    "x = mx.arange(-10., 10., 1.0)\n",
    "x"
   ]
  },
  {
   "cell_type": "code",
   "execution_count": 18,
   "id": "17a2be5b-c63a-4eae-b9a1-069c50bb9bb7",
   "metadata": {},
   "outputs": [
    {
     "data": {
      "text/plain": [
       "(array([[0.506034, 0.100576]], dtype=float32), (1, 2))"
      ]
     },
     "execution_count": 18,
     "metadata": {},
     "output_type": "execute_result"
    }
   ],
   "source": [
    "# Weigth matrix\n",
    "W = mx.random.normal((1, 2))\n",
    "W, W.shape"
   ]
  },
  {
   "cell_type": "code",
   "execution_count": 23,
   "id": "61474fde-a9cd-4849-9937-f87097a00bcf",
   "metadata": {},
   "outputs": [
    {
     "data": {
      "text/plain": [
       "(2,)"
      ]
     },
     "execution_count": 23,
     "metadata": {},
     "output_type": "execute_result"
    }
   ],
   "source": [
    "# toy input\n",
    "X = mx.array([1.2, 3.4])\n",
    "X.shape"
   ]
  },
  {
   "cell_type": "code",
   "execution_count": 24,
   "id": "f407cf1f-dde2-4443-9f77-1571f2752ceb",
   "metadata": {},
   "outputs": [
    {
     "data": {
      "text/plain": [
       "(array([0.671694], dtype=float32), (1,))"
      ]
     },
     "execution_count": 24,
     "metadata": {},
     "output_type": "execute_result"
    }
   ],
   "source": [
    "# bias in linear model\n",
    "b = mx.random.uniform(0., 1.0, shape=[1])\n",
    "b, b.shape"
   ]
  },
  {
   "cell_type": "code",
   "execution_count": 31,
   "id": "4765bf51-2a85-4515-8ada-7d23ad61595e",
   "metadata": {},
   "outputs": [
    {
     "data": {
      "text/plain": [
       "array([1.6209], dtype=float32)"
      ]
     },
     "execution_count": 31,
     "metadata": {},
     "output_type": "execute_result"
    }
   ],
   "source": [
    "# y = W * T + b\n",
    "y = W @ X + b\n",
    "y"
   ]
  },
  {
   "cell_type": "code",
   "execution_count": 32,
   "id": "98922da9-0e04-41d5-ae3b-7a1b6bb88dec",
   "metadata": {},
   "outputs": [
    {
     "data": {
      "text/plain": [
       "array([1.6209], dtype=float32)"
      ]
     },
     "execution_count": 32,
     "metadata": {},
     "output_type": "execute_result"
    }
   ],
   "source": [
    "# y = X * WT + b\n",
    "y2 = X @ W.T + b\n",
    "y2"
   ]
  },
  {
   "cell_type": "code",
   "execution_count": 33,
   "id": "3e2a19f3-395c-41f1-a4cf-2025ecf37d54",
   "metadata": {},
   "outputs": [
    {
     "data": {
      "text/plain": [
       "array(1.5209, dtype=float32)"
      ]
     },
     "execution_count": 33,
     "metadata": {},
     "output_type": "execute_result"
    }
   ],
   "source": [
    "import mlx.nn as nn\n",
    "\n",
    "y_actual = mx.array([0.1])\n",
    "l1 = nn.losses.l1_loss(y, y_actual)\n",
    "l1"
   ]
  },
  {
   "cell_type": "code",
   "execution_count": 35,
   "id": "73229145-2b37-4d93-947d-ce253bb4e7cf",
   "metadata": {},
   "outputs": [
    {
     "data": {
      "text/plain": [
       "array([[0.475617, 0.0701584]], dtype=float32)"
      ]
     },
     "execution_count": 35,
     "metadata": {},
     "output_type": "execute_result"
    }
   ],
   "source": [
    "# Update weights, naively\n",
    "W = W - l1 * 0.01\n",
    "W"
   ]
  },
  {
   "cell_type": "code",
   "execution_count": 36,
   "id": "cf1542da-c4f7-410a-be93-d66dc98e39c8",
   "metadata": {},
   "outputs": [
    {
     "data": {
      "text/plain": [
       "array([1.48097], dtype=float32)"
      ]
     },
     "execution_count": 36,
     "metadata": {},
     "output_type": "execute_result"
    }
   ],
   "source": [
    "# Repeat prediction\n",
    "y = W @ X + b\n",
    "y"
   ]
  },
  {
   "cell_type": "code",
   "execution_count": 37,
   "id": "e514fd5b-fc97-4b64-9b4e-8fc7cb8f74a4",
   "metadata": {},
   "outputs": [
    {
     "data": {
      "text/plain": [
       "array(1.38097, dtype=float32)"
      ]
     },
     "execution_count": 37,
     "metadata": {},
     "output_type": "execute_result"
    }
   ],
   "source": [
    "# Repeat loss computation\n",
    "l1 = nn.losses.l1_loss(y, y_actual)\n",
    "l1"
   ]
  },
  {
   "cell_type": "code",
   "execution_count": 38,
   "id": "cf367f62-0a7f-48dd-89ed-9956690af1b0",
   "metadata": {},
   "outputs": [
    {
     "data": {
      "text/plain": [
       "array([[0.461807, 0.0563487]], dtype=float32)"
      ]
     },
     "execution_count": 38,
     "metadata": {},
     "output_type": "execute_result"
    }
   ],
   "source": [
    "# Repeat weights update, oh well...\n",
    "W = W - l1 * 0.01\n",
    "W"
   ]
  },
  {
   "cell_type": "code",
   "execution_count": 39,
   "id": "6c83cf52-93d8-4bb0-ae59-235f363c216f",
   "metadata": {},
   "outputs": [
    {
     "data": {
      "text/plain": [
       "array([1.41745], dtype=float32)"
      ]
     },
     "execution_count": 39,
     "metadata": {},
     "output_type": "execute_result"
    }
   ],
   "source": [
    "y = W @ X + b\n",
    "y"
   ]
  },
  {
   "cell_type": "code",
   "execution_count": null,
   "id": "98198c39-1b36-43f8-92dc-98a246c8f9f4",
   "metadata": {},
   "outputs": [],
   "source": []
  }
 ],
 "metadata": {
  "kernelspec": {
   "display_name": "Python 3 (ipykernel)",
   "language": "python",
   "name": "python3"
  },
  "language_info": {
   "codemirror_mode": {
    "name": "ipython",
    "version": 3
   },
   "file_extension": ".py",
   "mimetype": "text/x-python",
   "name": "python",
   "nbconvert_exporter": "python",
   "pygments_lexer": "ipython3",
   "version": "3.11.8"
  }
 },
 "nbformat": 4,
 "nbformat_minor": 5
}

{
 "cells": [
  {
   "cell_type": "code",
   "execution_count": 1,
   "id": "386b7e30-86f2-406e-8077-02abb26c35e5",
   "metadata": {},
   "outputs": [],
   "source": [
    "import mlx.core as mx\n",
    "import mlx.nn as nn\n",
    "from mlx.data import datasets\n",
    "import mlx.optimizers as optim"
   ]
  },
  {
   "cell_type": "code",
   "execution_count": 2,
   "id": "f3132a89-2823-4425-a092-40284c6b783d",
   "metadata": {},
   "outputs": [],
   "source": [
    "def get_streamed_data(data, batch_size=0, shuffled=True):\n",
    "    buffer = data.shuffle() if shuffled else data\n",
    "    stream = buffer.to_stream()\n",
    "    stream = stream.key_transform(\"image\", lambda x: x.astype(\"float32\"))\n",
    "    stream = stream.batch(batch_size) if batch_size > 0 else stream\n",
    "    return stream.prefetch(4, 2)"
   ]
  },
  {
   "cell_type": "code",
   "execution_count": 3,
   "id": "d554b174-785c-463d-8db1-9d22cfeac888",
   "metadata": {},
   "outputs": [],
   "source": [
    "# Load training set\n",
    "\n",
    "mnist_train = datasets.load_mnist(train=True)\n",
    "mnist_test = datasets.load_mnist(train=False)"
   ]
  },
  {
   "cell_type": "code",
   "execution_count": 4,
   "id": "0de4c0bd-9e2c-4139-a63e-f25cbc5cda87",
   "metadata": {},
   "outputs": [
    {
     "data": {
      "text/plain": [
       "((1, 28, 28, 1), (1,))"
      ]
     },
     "execution_count": 4,
     "metadata": {},
     "output_type": "execute_result"
    }
   ],
   "source": [
    "# Get one sample from the train set\n",
    "stream = get_streamed_data(mnist_train, batch_size=1, shuffled=False)\n",
    "batch = next(stream)\n",
    "X, y = mx.array(batch[\"image\"]), mx.array(batch[\"label\"])\n",
    "X.shape, y.shape"
   ]
  },
  {
   "cell_type": "code",
   "execution_count": 5,
   "id": "079eae3c-0cc9-400f-8a20-0b0a353cef65",
   "metadata": {},
   "outputs": [
    {
     "name": "stdout",
     "output_type": "stream",
     "text": [
      "(1, 13, 13, 1)\n"
     ]
    }
   ],
   "source": [
    "# Create a convolution sequence\n",
    "conv_seq1 = nn.Sequential(\n",
    "    nn.Conv2d(in_channels=1, out_channels=1, kernel_size=2, stride=1),\n",
    "    nn.ReLU(),\n",
    "    nn.MaxPool2d(kernel_size=2, stride=2)\n",
    ")\n",
    "\n",
    "X_out1 = conv_seq1(X)\n",
    "print(X_out1.shape)"
   ]
  },
  {
   "cell_type": "code",
   "execution_count": 6,
   "id": "e4be7a0c-beeb-4a94-b4b0-6f84b88d0e2f",
   "metadata": {},
   "outputs": [],
   "source": [
    "# Calculating output dimension of a Conv2d layer\n",
    "def get_convolution_output_dim(width, stride, kernel_size, padding):\n",
    "    \"\"\"\n",
    "    Assuming that the input image has dimension of width x width (square image).\n",
    "    We only need the width in this case\n",
    "    \"\"\" \n",
    "    return int(((width - kernel_size + (2 * padding)) / stride)) + 1\n",
    "\n",
    "def get_pooling_layer_out_dim(width, height, stride, kernel_size, padding):\n",
    "    \"\"\"\n",
    "    Assuming that stride and kernel is a square (e.g., 2x2)\n",
    "    \"\"\"\n",
    "    w_out = ((width + 2 * padding - kernel_size) / stride) + 1\n",
    "    h_out = ((height + 2 * padding - kernel_size) / stride) + 1\n",
    "    return int(w_out), int(h_out)\n"
   ]
  },
  {
   "cell_type": "code",
   "execution_count": 7,
   "id": "14775fb9-d0d6-47c2-b54c-635f150c42fb",
   "metadata": {},
   "outputs": [
    {
     "name": "stdout",
     "output_type": "stream",
     "text": [
      "(13, 13)\n",
      "(6, 6)\n"
     ]
    }
   ],
   "source": [
    "# So long the convolution/pooling kernel size, padding, and stride is configurable\n",
    "# We can calculate each output dimension without passing a sample\n",
    "input_image_width = X.shape[-2]\n",
    "conv_padding = 0\n",
    "conv_stride = 1\n",
    "conv_kernel_size = 2\n",
    "\n",
    "pool_padding = 0\n",
    "pool_stride = 2\n",
    "pool_kernel_size = 2\n",
    "\n",
    "conv_seq_1_conv_out_dim = get_convolution_output_dim(input_image_width, conv_stride, conv_kernel_size, conv_padding)\n",
    "conv_seq_1_pooling_out_dim = get_pooling_layer_out_dim(\n",
    "    conv_seq_1_conv_out_dim,\n",
    "    conv_seq_1_conv_out_dim,\n",
    "    pool_stride,\n",
    "    pool_kernel_size,\n",
    "    pool_padding\n",
    ")\n",
    "\n",
    "print(conv_seq_1_pooling_out_dim)\n",
    "\n",
    "conv_seq_2_conv_out_dim = get_convolution_output_dim(\n",
    "    conv_seq_1_pooling_out_dim[-1],\n",
    "    conv_stride,\n",
    "    conv_kernel_size,\n",
    "    conv_padding\n",
    ")\n",
    "conv_seq_2_pooling_out_dim = get_pooling_layer_out_dim(\n",
    "    conv_seq_2_conv_out_dim,\n",
    "    conv_seq_2_conv_out_dim,\n",
    "    pool_stride,\n",
    "    pool_kernel_size,\n",
    "    pool_padding\n",
    ")\n",
    "\n",
    "print(conv_seq_2_pooling_out_dim)"
   ]
  },
  {
   "cell_type": "code",
   "execution_count": 8,
   "id": "57a3bace-cd4f-494b-a52d-24f8190a704f",
   "metadata": {},
   "outputs": [],
   "source": [
    "class ConvolutedMNISTModel(nn.Module):\n",
    "    def __init__(self, input_channel, input_width, output_dims):\n",
    "        super().__init__()\n",
    "        conv2d_kernel_size = 2\n",
    "        conv2d_stride = 1\n",
    "        conv2d_padding = 0\n",
    "\n",
    "        pool2d_kernel_size = 2\n",
    "        pool2d_stride = 2\n",
    "        pool2d_padding = 0\n",
    "\n",
    "        self.conv_layer1 = nn.Sequential(\n",
    "            nn.Conv2d(\n",
    "                in_channels=input_channel,\n",
    "                out_channels=input_channel,\n",
    "                kernel_size=conv2d_kernel_size,\n",
    "                stride=conv2d_stride,\n",
    "                padding=conv2d_padding\n",
    "            ),\n",
    "            nn.ReLU(),\n",
    "            nn.MaxPool2d(kernel_size=pool2d_kernel_size, stride=pool2d_stride, padding=pool2d_padding),\n",
    "        )\n",
    "\n",
    "        self.conv_layer2 = nn.Sequential(\n",
    "            nn.Conv2d(\n",
    "                in_channels=input_channel,\n",
    "                out_channels=input_channel,\n",
    "                kernel_size=conv2d_kernel_size,\n",
    "                stride=conv2d_stride,\n",
    "                padding=conv2d_padding\n",
    "            ),\n",
    "            nn.ReLU(),\n",
    "            nn.MaxPool2d(kernel_size=pool2d_kernel_size, stride=pool2d_stride, padding=pool2d_padding),\n",
    "        )\n",
    "\n",
    "        self.fully_connected = nn.Sequential(\n",
    "            nn.Linear(input_dims=6*6*input_channel, output_dims=16),\n",
    "            nn.ReLU(),\n",
    "            nn.Linear(input_dims=16, output_dims=16),\n",
    "            nn.ReLU(),\n",
    "            nn.Linear(input_dims=16, output_dims=output_dims),\n",
    "        )\n",
    "\n",
    "    def __call__(self, x):\n",
    "        x = self.conv_layer1(x)\n",
    "        # print(f\"conv_layer1.out_shape -> {x.shape}\")\n",
    "        x = self.conv_layer2(x)\n",
    "        # print(f\"conv_layer2.out_shape -> {x.shape}\")\n",
    "        x = mx.flatten(x, start_axis=1) # ignore the batch shape (axis=0)\n",
    "        # print(f\"mx.flatten.out_shape -> {x.shape}\")\n",
    "        x = self.fully_connected(x)\n",
    "        return x"
   ]
  },
  {
   "cell_type": "code",
   "execution_count": 9,
   "id": "c51e8a27-cc20-49ec-aaa4-26c32b87d4e4",
   "metadata": {},
   "outputs": [
    {
     "data": {
      "text/plain": [
       "ConvolutedMNISTModel(\n",
       "  (conv_layer1): Sequential(\n",
       "    (layers.0): Conv2d(1, 1, kernel_size=(2,), stride=(1, 1), padding=(0, 0), dilation=1, bias=True)\n",
       "    (layers.1): ReLU()\n",
       "    (layers.2): MaxPool2d(kernel_size=(2, 2), stride=(2, 2), padding=(0, 0))\n",
       "  )\n",
       "  (conv_layer2): Sequential(\n",
       "    (layers.0): Conv2d(1, 1, kernel_size=(2,), stride=(1, 1), padding=(0, 0), dilation=1, bias=True)\n",
       "    (layers.1): ReLU()\n",
       "    (layers.2): MaxPool2d(kernel_size=(2, 2), stride=(2, 2), padding=(0, 0))\n",
       "  )\n",
       "  (fully_connected): Sequential(\n",
       "    (layers.0): Linear(input_dims=36, output_dims=16, bias=True)\n",
       "    (layers.1): ReLU()\n",
       "    (layers.2): Linear(input_dims=16, output_dims=16, bias=True)\n",
       "    (layers.3): ReLU()\n",
       "    (layers.4): Linear(input_dims=16, output_dims=10, bias=True)\n",
       "  )\n",
       ")"
      ]
     },
     "execution_count": 9,
     "metadata": {},
     "output_type": "execute_result"
    }
   ],
   "source": [
    "NUM_CLASSES = 10 # number of classes\n",
    "INPUT_WIDTH = 28 # image width -> assuming a square image\n",
    "INPUT_CHANNEL = 1 # 1 color  channel\n",
    "\n",
    "model = ConvolutedMNISTModel(\n",
    "    input_channel=INPUT_CHANNEL,\n",
    "    input_width=INPUT_WIDTH,\n",
    "    output_dims=NUM_CLASSES\n",
    ")\n",
    "\n",
    "mx.eval(model)\n",
    "model"
   ]
  },
  {
   "cell_type": "code",
   "execution_count": 10,
   "id": "3d70e68a-8f8f-4b19-84d6-16eb8c184506",
   "metadata": {},
   "outputs": [],
   "source": [
    "def loss_fn(model, X, y):\n",
    "    logits = model(X)\n",
    "    return nn.losses.cross_entropy(logits, y, reduction=\"mean\")\n",
    "\n",
    "def eval_fn(model, X, y):\n",
    "    logits = model(X)\n",
    "    pred = nn.softmax(logits)\n",
    "    return mx.mean(mx.argmax(pred, axis=1) == y)"
   ]
  },
  {
   "cell_type": "code",
   "execution_count": 11,
   "id": "394299d2-00c5-40ac-8a03-684afba146e1",
   "metadata": {},
   "outputs": [
    {
     "name": "stdout",
     "output_type": "stream",
     "text": [
      "Epoch: 0 | Train Loss: 2.1820483425830273, Train Accuracy: 0.17024601063829786 | Test Accuracy: 0.47454073482428116\n",
      "Epoch: 1 | Train Loss: 0.9785254656000341, Train Accuracy: 0.6919935728641267 | Test Accuracy: 0.7809504792332268\n",
      "Epoch: 2 | Train Loss: 0.6013314323222384, Train Accuracy: 0.8279366135597229 | Test Accuracy: 0.7899361022364217\n",
      "Epoch: 3 | Train Loss: 0.5049120058404638, Train Accuracy: 0.8576684398854032 | Test Accuracy: 0.8413538338658147\n",
      "Epoch: 4 | Train Loss: 0.46181440708485055, Train Accuracy: 0.8706449468085107 | Test Accuracy: 0.8457468051118211\n",
      "Epoch: 5 | Train Loss: 0.42665021761934807, Train Accuracy: 0.8812887856300841 | Test Accuracy: 0.8680111821086262\n",
      "Epoch: 6 | Train Loss: 0.4010149182157314, Train Accuracy: 0.8899822696726373 | Test Accuracy: 0.8876797124600639\n",
      "Epoch: 7 | Train Loss: 0.3732754078317196, Train Accuracy: 0.8971132537151905 | Test Accuracy: 0.8743011182108626\n",
      "Epoch: 8 | Train Loss: 0.3582488401773128, Train Accuracy: 0.9018672430768926 | Test Accuracy: 0.8578274760383386\n",
      "Epoch: 9 | Train Loss: 0.3433697377113586, Train Accuracy: 0.9063608156873825 | Test Accuracy: 0.9024560702875399\n",
      "Epoch: 10 | Train Loss: 0.33300787800170006, Train Accuracy: 0.90834995584285 | Test Accuracy: 0.8845846645367412\n",
      "Epoch: 11 | Train Loss: 0.32346096691933085, Train Accuracy: 0.9112588654173182 | Test Accuracy: 0.8655151757188498\n",
      "Epoch: 12 | Train Loss: 0.31727321122555024, Train Accuracy: 0.913563829787234 | Test Accuracy: 0.9072484025559105\n",
      "Epoch: 13 | Train Loss: 0.31119629918260777, Train Accuracy: 0.9157912234042553 | Test Accuracy: 0.8979632587859425\n",
      "Epoch: 14 | Train Loss: 0.3078832852713605, Train Accuracy: 0.9166722074468086 | Test Accuracy: 0.8901757188498403\n",
      "Epoch: 15 | Train Loss: 0.30132497219329185, Train Accuracy: 0.9188718973322118 | Test Accuracy: 0.9003594249201278\n",
      "Epoch: 16 | Train Loss: 0.2983642469061182, Train Accuracy: 0.9196531473322117 | Test Accuracy: 0.9105431309904153\n",
      "Epoch: 17 | Train Loss: 0.2956293026817606, Train Accuracy: 0.9203900710065314 | Test Accuracy: 0.9122404153354633\n",
      "Epoch: 18 | Train Loss: 0.2915659272290291, Train Accuracy: 0.9205230497299357 | Test Accuracy: 0.9005591054313099\n",
      "Epoch: 19 | Train Loss: 0.2880891255241759, Train Accuracy: 0.9224401595744681 | Test Accuracy: 0.9075479233226837\n",
      "Epoch: 20 | Train Loss: 0.28504155386001506, Train Accuracy: 0.9223570478723404 | Test Accuracy: 0.9070487220447284\n",
      "Epoch: 21 | Train Loss: 0.28403797504749706, Train Accuracy: 0.9233266845662543 | Test Accuracy: 0.9150359424920128\n",
      "Epoch: 22 | Train Loss: 0.2811676929605768, Train Accuracy: 0.9235981827086591 | Test Accuracy: 0.8992611821086262\n",
      "Epoch: 23 | Train Loss: 0.27861043341616365, Train Accuracy: 0.9256815159574469 | Test Accuracy: 0.9186301916932907\n",
      "Epoch: 24 | Train Loss: 0.2760337138429601, Train Accuracy: 0.9260084220703612 | Test Accuracy: 0.9068490415335463\n",
      "Epoch: 25 | Train Loss: 0.2750745533628667, Train Accuracy: 0.9265846632896586 | Test Accuracy: 0.9122404153354633\n",
      "Epoch: 26 | Train Loss: 0.271379011045111, Train Accuracy: 0.9270833335024246 | Test Accuracy: 0.8968650159744409\n",
      "Epoch: 27 | Train Loss: 0.2713783212798707, Train Accuracy: 0.926817376055616 | Test Accuracy: 0.8898761980830671\n",
      "Epoch: 28 | Train Loss: 0.2698082740636582, Train Accuracy: 0.9282635196726373 | Test Accuracy: 0.9060503194888179\n",
      "Epoch: 29 | Train Loss: 0.2654396209310978, Train Accuracy: 0.9289561170212766 | Test Accuracy: 0.9023562300319489\n",
      "Epoch: 30 | Train Loss: 0.26522302786086466, Train Accuracy: 0.9286957005237011 | Test Accuracy: 0.9020567092651757\n",
      "Epoch: 31 | Train Loss: 0.263086484911594, Train Accuracy: 0.9300698138297873 | Test Accuracy: 0.9114416932907349\n",
      "Epoch: 32 | Train Loss: 0.2596875507780846, Train Accuracy: 0.9294492465384463 | Test Accuracy: 0.9145367412140575\n",
      "Epoch: 33 | Train Loss: 0.2600264369173253, Train Accuracy: 0.9300365691489362 | Test Accuracy: 0.9202276357827476\n",
      "Epoch: 34 | Train Loss: 0.2575578907702831, Train Accuracy: 0.9308787678150421 | Test Accuracy: 0.9182308306709265\n",
      "Epoch: 35 | Train Loss: 0.25788201119037385, Train Accuracy: 0.9310671542553192 | Test Accuracy: 0.9175319488817891\n",
      "Epoch: 36 | Train Loss: 0.25631657952957965, Train Accuracy: 0.9318705675449778 | Test Accuracy: 0.9158346645367412\n",
      "Epoch: 37 | Train Loss: 0.2536639102595918, Train Accuracy: 0.9319481382978724 | Test Accuracy: 0.919029552715655\n",
      "Epoch: 38 | Train Loss: 0.25132364897017784, Train Accuracy: 0.933067376055616 | Test Accuracy: 0.9212260383386581\n",
      "Epoch: 39 | Train Loss: 0.2509122775907212, Train Accuracy: 0.9317320478723404 | Test Accuracy: 0.9219249201277955\n",
      "Epoch: 40 | Train Loss: 0.25069304558824984, Train Accuracy: 0.932563164893617 | Test Accuracy: 0.9127396166134185\n",
      "Epoch: 41 | Train Loss: 0.25007584393024446, Train Accuracy: 0.9335882093044038 | Test Accuracy: 0.9183306709265175\n",
      "Epoch: 42 | Train Loss: 0.2475477602570615, Train Accuracy: 0.9333277925531915 | Test Accuracy: 0.8957667731629393\n",
      "Epoch: 43 | Train Loss: 0.2478153459252195, Train Accuracy: 0.9342752659574468 | Test Accuracy: 0.9179313099041534\n",
      "Epoch: 44 | Train Loss: 0.24568144821740212, Train Accuracy: 0.9340480941407224 | Test Accuracy: 0.9176317891373802\n",
      "Epoch: 45 | Train Loss: 0.24407482984218193, Train Accuracy: 0.9352559840425532 | Test Accuracy: 0.8820886581469649\n",
      "Epoch: 46 | Train Loss: 0.24456321070802972, Train Accuracy: 0.9354166667512123 | Test Accuracy: 0.9157348242811502\n",
      "Epoch: 47 | Train Loss: 0.24239582140394983, Train Accuracy: 0.9349900265957447 | Test Accuracy: 0.9075479233226837\n",
      "Epoch: 48 | Train Loss: 0.24108721579008915, Train Accuracy: 0.9347185284533399 | Test Accuracy: 0.922923322683706\n",
      "Epoch: 49 | Train Loss: 0.24041000461958825, Train Accuracy: 0.9359042553191489 | Test Accuracy: 0.9223242811501597\n"
     ]
    }
   ],
   "source": [
    "# Start training loop\n",
    "\n",
    "epochs = 50\n",
    "loss_and_grad_fn = nn.value_and_grad(model, loss_fn)\n",
    "\n",
    "optimizer = optim.SGD(learning_rate=0.01)\n",
    "for epoch in range(epochs):\n",
    "    epoch_loss = 0.0\n",
    "    train_acc = 0.0\n",
    "    epoch_counter = 0\n",
    "    for batch in get_streamed_data(mnist_train, batch_size=256, shuffled=True):\n",
    "        X, y = batch[\"image\"], batch[\"label\"]\n",
    "        # Need to convert X and y into mlx.core.array type\n",
    "        X, y = mx.array(X), mx.array(y)\n",
    "        # Compute loss and its gradient with respect to the model's trainable parameters\n",
    "        loss, grad = loss_and_grad_fn(model, X, y)\n",
    "        # Step the optimizer\n",
    "        optimizer.update(model, grad)\n",
    "        # Evaluate computational graph\n",
    "        mx.eval(model.parameters(), optimizer.state)\n",
    "        epoch_loss += loss.item()\n",
    "        epoch_counter += 1\n",
    "        train_acc += eval_fn(model, X, y).item()\n",
    "    epoch_loss /= epoch_counter\n",
    "    train_acc /= epoch_counter\n",
    "\n",
    "    test_acc_counter = 0.0\n",
    "    test_acc = 0.0\n",
    "    for batch in get_streamed_data(mnist_test, batch_size=32, shuffled=False):\n",
    "        X, y = batch[\"image\"], batch[\"label\"]\n",
    "        X, y = mx.array(X), mx.array(y)\n",
    "        acc = eval_fn(model, X, y)\n",
    "        test_acc += acc.item()\n",
    "        test_acc_counter += 1\n",
    "    test_acc /= test_acc_counter\n",
    "    print(f\"Epoch: {epoch} | Train Loss: {epoch_loss}, Train Accuracy: {train_acc} | Test Accuracy: {test_acc}\")"
   ]
  },
  {
   "cell_type": "code",
   "execution_count": 12,
   "id": "055cd077-85bc-4bf9-9aaf-1b296ac7652d",
   "metadata": {},
   "outputs": [
    {
     "name": "stdout",
     "output_type": "stream",
     "text": [
      "Logits: array([[1.31578, -4.3739, 6.1678, ..., -2.34182, 10.1054, -0.109977]], dtype=float32)\n",
      "Softmax-ed: array([[0.000149331, 5.04838e-07, 0.0191141, ..., 3.85189e-06, 0.980485, 3.58881e-05]], dtype=float32)\n",
      "Predicted label: 8, True label: 8 | Confidence level: 0.9804853200912476\n"
     ]
    }
   ],
   "source": [
    "# Testing out with one random sample\n",
    "test_stream = get_streamed_data(mnist_test, batch_size=1)\n",
    "test_batch = next(test_stream)\n",
    "X, y = mx.array(test_batch[\"image\"]), mx.array(test_batch[\"label\"])\n",
    "\n",
    "# See how the model produce logits\n",
    "logits = model(X)\n",
    "print(f\"Logits: {logits}\")\n",
    "\n",
    "# See we can compute the softmax from the logits\n",
    "softmax = nn.softmax(logits)\n",
    "print(f\"Softmax-ed: {softmax}\")\n",
    "\n",
    "# Get predicted label and true label\n",
    "predicted_label = mx.argmax(softmax, axis=1).item()\n",
    "confidence_level = mx.max(softmax, axis=1).item()\n",
    "print(f\"Predicted label: {predicted_label}, True label: {y.item()} | Confidence level: {confidence_level}\")"
   ]
  },
  {
   "cell_type": "code",
   "execution_count": 13,
   "id": "a6269604-bd5a-42eb-84d2-7fb039f8f690",
   "metadata": {},
   "outputs": [
    {
     "name": "stdout",
     "output_type": "stream",
     "text": [
      "Precision: 0.9223800089944086\n",
      "Recall: 0.9222\n",
      "F1 Score: 0.9220909196981034\n"
     ]
    }
   ],
   "source": [
    "# get precision, recall, and f1-score\n",
    "from sklearn.metrics import f1_score, precision_score, recall_score\n",
    "import numpy as np\n",
    "\n",
    "y_true = []\n",
    "y_pred = []\n",
    "for batch in get_streamed_data(mnist_test, batch_size=32, shuffled=False):\n",
    "    X, y = batch[\"image\"], batch[\"label\"]\n",
    "    X, y = mx.array(X), mx.array(y)\n",
    "    logits = model(X)\n",
    "    prediction = mx.argmax(mx.softmax(logits), axis=1)\n",
    "    y_true = y_true + y.tolist()\n",
    "    y_pred = y_pred + prediction.tolist()\n",
    "    \n",
    "y_true = np.array(y_true)\n",
    "y_pred = np.array(y_pred)\n",
    "\n",
    "precision = precision_score(y_true, y_pred, average=\"weighted\")\n",
    "recall = recall_score(y_true, y_pred, average=\"weighted\")\n",
    "f1 = f1_score(y_true, y_pred, average=\"weighted\")\n",
    "print(f\"Precision: {precision}\\nRecall: {recall}\\nF1 Score: {f1}\")"
   ]
  },
  {
   "cell_type": "code",
   "execution_count": 14,
   "id": "8fc39cb1-2ea0-4b47-a2f1-65f5834f50d3",
   "metadata": {},
   "outputs": [
    {
     "data": {
      "image/png": "[encoded data removed]",
      "text/plain": [
       "<Figure size 640x480 with 2 Axes>"
      ]
     },
     "metadata": {},
     "output_type": "display_data"
    }
   ],
   "source": [
    "from sklearn.metrics import confusion_matrix, ConfusionMatrixDisplay\n",
    "import matplotlib.pyplot as plt\n",
    "\n",
    "conf_matrix = confusion_matrix(y_true, y_pred)\n",
    "display = ConfusionMatrixDisplay(conf_matrix)\n",
    "display.plot(cmap=plt.cm.Blues)\n",
    "plt.show()"
   ]
  },
  {
   "cell_type": "code",
   "execution_count": null,
   "id": "116aefaf-8ece-4879-ab41-ef3c14818d41",
   "metadata": {},
   "outputs": [],
   "source": []
  }
 ],
 "metadata": {
  "kernelspec": {
   "display_name": "Python 3 (ipykernel)",
   "language": "python",
   "name": "python3"
  },
  "language_info": {
   "codemirror_mode": {
    "name": "ipython",
    "version": 3
   },
   "file_extension": ".py",
   "mimetype": "text/x-python",
   "name": "python",
   "nbconvert_exporter": "python",
   "pygments_lexer": "ipython3",
   "version": "3.11.8"
  }
 },
 "nbformat": 4,
 "nbformat_minor": 5
}

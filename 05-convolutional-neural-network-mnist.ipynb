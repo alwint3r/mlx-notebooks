{
 "cells": [
  {
   "cell_type": "code",
   "execution_count": 1,
   "id": "386b7e30-86f2-406e-8077-02abb26c35e5",
   "metadata": {},
   "outputs": [],
   "source": [
    "import mlx.core as mx\n",
    "import mlx.nn as nn\n",
    "from mlx.data import datasets\n",
    "import mlx.optimizers as optim"
   ]
  },
  {
   "cell_type": "code",
   "execution_count": 2,
   "id": "f3132a89-2823-4425-a092-40284c6b783d",
   "metadata": {},
   "outputs": [],
   "source": [
    "def get_streamed_data(data, batch_size=0, shuffled=True):\n",
    "    buffer = data.shuffle() if shuffled else data\n",
    "    stream = buffer.to_stream()\n",
    "    stream = stream.key_transform(\"image\", lambda x: x.astype(\"float32\"))\n",
    "    stream = stream.batch(batch_size) if batch_size > 0 else stream\n",
    "    return stream.prefetch(4, 2)"
   ]
  },
  {
   "cell_type": "code",
   "execution_count": 3,
   "id": "d554b174-785c-463d-8db1-9d22cfeac888",
   "metadata": {},
   "outputs": [],
   "source": [
    "# Load training set\n",
    "\n",
    "mnist_train = datasets.load_mnist(train=True)\n",
    "mnist_test = datasets.load_mnist(train=False)"
   ]
  },
  {
   "cell_type": "code",
   "execution_count": 4,
   "id": "0de4c0bd-9e2c-4139-a63e-f25cbc5cda87",
   "metadata": {},
   "outputs": [
    {
     "data": {
      "text/plain": [
       "((1, 28, 28, 1), (1,))"
      ]
     },
     "execution_count": 4,
     "metadata": {},
     "output_type": "execute_result"
    }
   ],
   "source": [
    "# Get one sample from the train set\n",
    "stream = get_streamed_data(mnist_train, batch_size=1, shuffled=False)\n",
    "batch = next(stream)\n",
    "X, y = mx.array(batch[\"image\"]), mx.array(batch[\"label\"])\n",
    "X.shape, y.shape"
   ]
  },
  {
   "cell_type": "code",
   "execution_count": 5,
   "id": "079eae3c-0cc9-400f-8a20-0b0a353cef65",
   "metadata": {},
   "outputs": [
    {
     "name": "stdout",
     "output_type": "stream",
     "text": [
      "(1, 13, 13, 1)\n"
     ]
    }
   ],
   "source": [
    "# Create a convolution sequence\n",
    "conv_seq1 = nn.Sequential(\n",
    "    nn.Conv2d(in_channels=1, out_channels=1, kernel_size=2, stride=1),\n",
    "    nn.ReLU(),\n",
    "    nn.MaxPool2d(kernel_size=2, stride=2)\n",
    ")\n",
    "\n",
    "X_out1 = conv_seq1(X)\n",
    "print(X_out1.shape)"
   ]
  },
  {
   "cell_type": "code",
   "execution_count": 6,
   "id": "e4be7a0c-beeb-4a94-b4b0-6f84b88d0e2f",
   "metadata": {},
   "outputs": [],
   "source": [
    "# Calculating output dimension of a Conv2d layer\n",
    "def get_convolution_output_dim(width, stride, kernel_size, padding):\n",
    "    \"\"\"\n",
    "    Assuming that the input image has dimension of width x width (square image).\n",
    "    We only need the width in this case\n",
    "    \"\"\" \n",
    "    return int(((width - kernel_size + (2 * padding)) / stride)) + 1\n",
    "\n",
    "def get_pooling_layer_out_dim(width, height, stride, kernel_size, padding):\n",
    "    \"\"\"\n",
    "    Assuming that stride and kernel is a square (e.g., 2x2)\n",
    "    \"\"\"\n",
    "    w_out = ((width + 2 * padding - kernel_size) / stride) + 1\n",
    "    h_out = ((height + 2 * padding - kernel_size) / stride) + 1\n",
    "    return int(w_out), int(h_out)\n"
   ]
  },
  {
   "cell_type": "code",
   "execution_count": 17,
   "id": "14775fb9-d0d6-47c2-b54c-635f150c42fb",
   "metadata": {},
   "outputs": [
    {
     "name": "stdout",
     "output_type": "stream",
     "text": [
      "(14, 14)\n",
      "(7, 7)\n"
     ]
    }
   ],
   "source": [
    "# So long the convolution/pooling kernel size, padding, and stride is configurable\n",
    "# We can calculate each output dimension without passing a sample\n",
    "input_image_width = X.shape[-2]\n",
    "conv_padding = 1\n",
    "conv_stride = 1\n",
    "conv_kernel_size = 3\n",
    "\n",
    "pool_padding = 0\n",
    "pool_stride = 2\n",
    "pool_kernel_size = 2\n",
    "\n",
    "conv_seq_1_conv_out_dim = get_convolution_output_dim(input_image_width, conv_stride, conv_kernel_size, conv_padding)\n",
    "conv_seq_1_pooling_out_dim = get_pooling_layer_out_dim(\n",
    "    conv_seq_1_conv_out_dim,\n",
    "    conv_seq_1_conv_out_dim,\n",
    "    pool_stride,\n",
    "    pool_kernel_size,\n",
    "    pool_padding\n",
    ")\n",
    "\n",
    "print(conv_seq_1_pooling_out_dim)\n",
    "\n",
    "conv_seq_2_conv_out_dim = get_convolution_output_dim(\n",
    "    conv_seq_1_pooling_out_dim[-1],\n",
    "    conv_stride,\n",
    "    conv_kernel_size,\n",
    "    conv_padding\n",
    ")\n",
    "conv_seq_2_pooling_out_dim = get_pooling_layer_out_dim(\n",
    "    conv_seq_2_conv_out_dim,\n",
    "    conv_seq_2_conv_out_dim,\n",
    "    pool_stride,\n",
    "    pool_kernel_size,\n",
    "    pool_padding\n",
    ")\n",
    "\n",
    "print(conv_seq_2_pooling_out_dim)"
   ]
  },
  {
   "cell_type": "code",
   "execution_count": 27,
   "id": "57a3bace-cd4f-494b-a52d-24f8190a704f",
   "metadata": {},
   "outputs": [],
   "source": [
    "class ConvolutedMNISTModel(nn.Module):\n",
    "    def __init__(self, input_channel, input_width, output_dims):\n",
    "        super().__init__()\n",
    "        conv2d_kernel_size = 3\n",
    "        conv2d_stride = 1\n",
    "        conv2d_padding = 1\n",
    "\n",
    "        pool2d_kernel_size = 2\n",
    "        pool2d_stride = 2\n",
    "        pool2d_padding = 0\n",
    "        output_channel = 16\n",
    "\n",
    "        self.conv_layer1 = nn.Sequential(\n",
    "            nn.Conv2d(\n",
    "                in_channels=input_channel,\n",
    "                out_channels=output_channel,\n",
    "                kernel_size=conv2d_kernel_size,\n",
    "                stride=conv2d_stride,\n",
    "                padding=conv2d_padding\n",
    "            ),\n",
    "            nn.ReLU(),\n",
    "            nn.MaxPool2d(kernel_size=pool2d_kernel_size, stride=pool2d_stride, padding=pool2d_padding),\n",
    "        )\n",
    "\n",
    "        self.conv_layer2 = nn.Sequential(\n",
    "            nn.Conv2d(\n",
    "                in_channels=output_channel,\n",
    "                out_channels=output_channel*2,\n",
    "                kernel_size=conv2d_kernel_size,\n",
    "                stride=conv2d_stride,\n",
    "                padding=conv2d_padding\n",
    "            ),\n",
    "            nn.ReLU(),\n",
    "            nn.MaxPool2d(kernel_size=pool2d_kernel_size, stride=pool2d_stride, padding=pool2d_padding),\n",
    "        )\n",
    "\n",
    "        self.fully_connected = nn.Sequential(\n",
    "            nn.Linear(input_dims=7*7*output_channel*2, output_dims=16),\n",
    "            nn.ReLU(),\n",
    "            nn.Linear(input_dims=16, output_dims=16),\n",
    "            nn.ReLU(),\n",
    "            nn.Linear(input_dims=16, output_dims=output_dims),\n",
    "        )\n",
    "\n",
    "    def __call__(self, x):\n",
    "        x = self.conv_layer1(x)\n",
    "        # print(f\"conv_layer1.out_shape -> {x.shape}\")\n",
    "        x = self.conv_layer2(x)\n",
    "        # print(f\"conv_layer2.out_shape -> {x.shape}\")\n",
    "        x = mx.flatten(x, start_axis=1) # ignore the batch shape (axis=0)\n",
    "        # print(f\"mx.flatten.out_shape -> {x.shape}\")\n",
    "        x = self.fully_connected(x)\n",
    "        return x"
   ]
  },
  {
   "cell_type": "code",
   "execution_count": 28,
   "id": "c51e8a27-cc20-49ec-aaa4-26c32b87d4e4",
   "metadata": {},
   "outputs": [
    {
     "data": {
      "text/plain": [
       "ConvolutedMNISTModel(\n",
       "  (conv_layer1): Sequential(\n",
       "    (layers.0): Conv2d(1, 16, kernel_size=(3,), stride=(1, 1), padding=(1, 1), dilation=1, bias=True)\n",
       "    (layers.1): ReLU()\n",
       "    (layers.2): MaxPool2d(kernel_size=(2, 2), stride=(2, 2), padding=(0, 0))\n",
       "  )\n",
       "  (conv_layer2): Sequential(\n",
       "    (layers.0): Conv2d(16, 32, kernel_size=(3,), stride=(1, 1), padding=(1, 1), dilation=1, bias=True)\n",
       "    (layers.1): ReLU()\n",
       "    (layers.2): MaxPool2d(kernel_size=(2, 2), stride=(2, 2), padding=(0, 0))\n",
       "  )\n",
       "  (fully_connected): Sequential(\n",
       "    (layers.0): Linear(input_dims=1568, output_dims=16, bias=True)\n",
       "    (layers.1): ReLU()\n",
       "    (layers.2): Linear(input_dims=16, output_dims=16, bias=True)\n",
       "    (layers.3): ReLU()\n",
       "    (layers.4): Linear(input_dims=16, output_dims=10, bias=True)\n",
       "  )\n",
       ")"
      ]
     },
     "execution_count": 28,
     "metadata": {},
     "output_type": "execute_result"
    }
   ],
   "source": [
    "NUM_CLASSES = 10 # number of classes\n",
    "INPUT_WIDTH = 28 # image width -> assuming a square image\n",
    "INPUT_CHANNEL = 1 # 1 color  channel\n",
    "\n",
    "model = ConvolutedMNISTModel(\n",
    "    input_channel=INPUT_CHANNEL,\n",
    "    input_width=INPUT_WIDTH,\n",
    "    output_dims=NUM_CLASSES\n",
    ")\n",
    "\n",
    "mx.eval(model)\n",
    "model"
   ]
  },
  {
   "cell_type": "code",
   "execution_count": 29,
   "id": "3d70e68a-8f8f-4b19-84d6-16eb8c184506",
   "metadata": {},
   "outputs": [],
   "source": [
    "def loss_fn(model, X, y):\n",
    "    logits = model(X)\n",
    "    return nn.losses.cross_entropy(logits, y, reduction=\"mean\")\n",
    "\n",
    "def eval_fn(model, X, y):\n",
    "    logits = model(X)\n",
    "    pred = nn.softmax(logits)\n",
    "    return mx.mean(mx.argmax(pred, axis=1) == y)"
   ]
  },
  {
   "cell_type": "code",
   "execution_count": 30,
   "id": "394299d2-00c5-40ac-8a03-684afba146e1",
   "metadata": {},
   "outputs": [
    {
     "name": "stdout",
     "output_type": "stream",
     "text": [
      "Epoch: 0 | Train Loss: 1.305586962243344, Train Accuracy: 0.6030585106382979 | Test Accuracy: 0.7791533546325878\n",
      "Epoch: 1 | Train Loss: 0.25400344250684087, Train Accuracy: 0.9367076686088075 | Test Accuracy: 0.9381988817891374\n",
      "Epoch: 2 | Train Loss: 0.15684927632199958, Train Accuracy: 0.9639461436170212 | Test Accuracy: 0.9367012779552716\n",
      "Epoch: 3 | Train Loss: 0.12537518077074214, Train Accuracy: 0.9736535904255319 | Test Accuracy: 0.9674520766773163\n",
      "Epoch: 4 | Train Loss: 0.10670028355051862, Train Accuracy: 0.9778701241980208 | Test Accuracy: 0.9722444089456869\n",
      "Epoch: 5 | Train Loss: 0.09302269510449247, Train Accuracy: 0.9810394505237011 | Test Accuracy: 0.9700479233226837\n",
      "Epoch: 6 | Train Loss: 0.08424887297318337, Train Accuracy: 0.9830950797872341 | Test Accuracy: 0.9636581469648562\n",
      "Epoch: 7 | Train Loss: 0.07753226941728845, Train Accuracy: 0.9852393617021277 | Test Accuracy: 0.972444089456869\n",
      "Epoch: 8 | Train Loss: 0.07099610823900142, Train Accuracy: 0.9869902483960415 | Test Accuracy: 0.9168330670926518\n",
      "Epoch: 9 | Train Loss: 0.08142175572983762, Train Accuracy: 0.9838264627659574 | Test Accuracy: 0.9797324281150159\n",
      "Epoch: 10 | Train Loss: 0.060149863473278414, Train Accuracy: 0.9894780585106383 | Test Accuracy: 0.9804313099041534\n",
      "Epoch: 11 | Train Loss: 0.055306554379615375, Train Accuracy: 0.9908410904255319 | Test Accuracy: 0.9774361022364217\n",
      "Epoch: 12 | Train Loss: 0.05213287349869596, Train Accuracy: 0.9919935728641267 | Test Accuracy: 0.9776357827476039\n",
      "Epoch: 13 | Train Loss: 0.05042211717747627, Train Accuracy: 0.9919935728641267 | Test Accuracy: 0.9764376996805112\n",
      "Epoch: 14 | Train Loss: 0.047601877454113456, Train Accuracy: 0.9931349734042553 | Test Accuracy: 0.979832268370607\n",
      "Epoch: 15 | Train Loss: 0.044255888525475844, Train Accuracy: 0.9939328457446809 | Test Accuracy: 0.9788338658146964\n",
      "Epoch: 16 | Train Loss: 0.04238169860253309, Train Accuracy: 0.9940990691489362 | Test Accuracy: 0.9778354632587859\n",
      "Epoch: 17 | Train Loss: 0.04038252878854884, Train Accuracy: 0.9945866579705096 | Test Accuracy: 0.9738418530351438\n",
      "Epoch: 18 | Train Loss: 0.038825528783367036, Train Accuracy: 0.9952626329787234 | Test Accuracy: 0.9825279552715654\n",
      "Epoch: 19 | Train Loss: 0.03673819186601867, Train Accuracy: 0.9953845303109352 | Test Accuracy: 0.9811301916932907\n",
      "Epoch: 20 | Train Loss: 0.0346802918715997, Train Accuracy: 0.996099290949233 | Test Accuracy: 0.9727436102236422\n",
      "Epoch: 21 | Train Loss: 0.03349613792243156, Train Accuracy: 0.99609375 | Test Accuracy: 0.9710463258785943\n",
      "Epoch: 22 | Train Loss: 0.03203729578947767, Train Accuracy: 0.9966090425531915 | Test Accuracy: 0.9804313099041534\n",
      "Epoch: 23 | Train Loss: 0.03135852837499152, Train Accuracy: 0.9967420212765957 | Test Accuracy: 0.9794329073482428\n",
      "Epoch: 24 | Train Loss: 0.029929751458954303, Train Accuracy: 0.9970633866939139 | Test Accuracy: 0.9792332268370607\n",
      "Epoch: 25 | Train Loss: 0.029365132891751352, Train Accuracy: 0.9971908244680852 | Test Accuracy: 0.9820287539936102\n",
      "Epoch: 26 | Train Loss: 0.027214581638257553, Train Accuracy: 0.9976230053191489 | Test Accuracy: 0.9841253993610224\n",
      "Epoch: 27 | Train Loss: 0.024925338143998003, Train Accuracy: 0.997872340425532 | Test Accuracy: 0.9847244408945687\n",
      "Epoch: 28 | Train Loss: 0.025113348551887148, Train Accuracy: 0.9979222074468085 | Test Accuracy: 0.9836261980830671\n",
      "Epoch: 29 | Train Loss: 0.023681724170579555, Train Accuracy: 0.9979776154173181 | Test Accuracy: 0.9844249201277955\n",
      "Epoch: 30 | Train Loss: 0.022600159009403372, Train Accuracy: 0.9982546542553191 | Test Accuracy: 0.9781349840255591\n",
      "Epoch: 31 | Train Loss: 0.02209935982493644, Train Accuracy: 0.998154920212766 | Test Accuracy: 0.985323482428115\n",
      "Epoch: 32 | Train Loss: 0.021368257400203258, Train Accuracy: 0.9984208776595744 | Test Accuracy: 0.9758386581469649\n",
      "Epoch: 33 | Train Loss: 0.021014806445925793, Train Accuracy: 0.9985538563829788 | Test Accuracy: 0.9829273162939297\n",
      "Epoch: 34 | Train Loss: 0.019677733837507982, Train Accuracy: 0.9985372340425532 | Test Accuracy: 0.9842252396166135\n",
      "Epoch: 35 | Train Loss: 0.01937470795150767, Train Accuracy: 0.9987699468085106 | Test Accuracy: 0.9745407348242812\n",
      "Epoch: 36 | Train Loss: 0.018492366952147888, Train Accuracy: 0.9986702127659575 | Test Accuracy: 0.9844249201277955\n",
      "Epoch: 37 | Train Loss: 0.01710119472142864, Train Accuracy: 0.9988863031914894 | Test Accuracy: 0.9840255591054313\n",
      "Epoch: 38 | Train Loss: 0.01656214853629787, Train Accuracy: 0.9991522606382979 | Test Accuracy: 0.9846246006389776\n",
      "Epoch: 39 | Train Loss: 0.01577443102810611, Train Accuracy: 0.9990525265957447 | Test Accuracy: 0.9827276357827476\n",
      "Epoch: 40 | Train Loss: 0.015720592510509997, Train Accuracy: 0.9991023936170212 | Test Accuracy: 0.9734424920127795\n",
      "Epoch: 41 | Train Loss: 0.015078739726797062, Train Accuracy: 0.9991688829787234 | Test Accuracy: 0.9830271565495208\n",
      "Epoch: 42 | Train Loss: 0.014133863091627334, Train Accuracy: 0.9993184840425532 | Test Accuracy: 0.9802316293929713\n",
      "Epoch: 43 | Train Loss: 0.4428678372716333, Train Accuracy: 0.8914782803109351 | Test Accuracy: 0.8388578274760383\n",
      "Epoch: 44 | Train Loss: 0.1772323894373914, Train Accuracy: 0.9606438388215734 | Test Accuracy: 0.9619608626198083\n",
      "Epoch: 45 | Train Loss: 0.07458551613257286, Train Accuracy: 0.9876883866939139 | Test Accuracy: 0.9757388178913738\n",
      "Epoch: 46 | Train Loss: 0.05698758994645261, Train Accuracy: 0.9915724734042554 | Test Accuracy: 0.977935303514377\n",
      "Epoch: 47 | Train Loss: 0.04832263169612022, Train Accuracy: 0.9937666223404256 | Test Accuracy: 0.9820287539936102\n",
      "Epoch: 48 | Train Loss: 0.041762396974607985, Train Accuracy: 0.9946642287234042 | Test Accuracy: 0.9810303514376997\n",
      "Epoch: 49 | Train Loss: 0.03657403177720435, Train Accuracy: 0.995938608240574 | Test Accuracy: 0.9726437699680511\n"
     ]
    }
   ],
   "source": [
    "# Start training loop\n",
    "\n",
    "epochs = 50\n",
    "loss_and_grad_fn = nn.value_and_grad(model, loss_fn)\n",
    "\n",
    "optimizer = optim.SGD(learning_rate=0.01)\n",
    "for epoch in range(epochs):\n",
    "    epoch_loss = 0.0\n",
    "    train_acc = 0.0\n",
    "    epoch_counter = 0\n",
    "    for batch in get_streamed_data(mnist_train, batch_size=256, shuffled=True):\n",
    "        X, y = batch[\"image\"], batch[\"label\"]\n",
    "        # Need to convert X and y into mlx.core.array type\n",
    "        X, y = mx.array(X), mx.array(y)\n",
    "        # Compute loss and its gradient with respect to the model's trainable parameters\n",
    "        loss, grad = loss_and_grad_fn(model, X, y)\n",
    "        # Step the optimizer\n",
    "        optimizer.update(model, grad)\n",
    "        # Evaluate computational graph\n",
    "        mx.eval(model.parameters(), optimizer.state)\n",
    "        epoch_loss += loss.item()\n",
    "        epoch_counter += 1\n",
    "        train_acc += eval_fn(model, X, y).item()\n",
    "    epoch_loss /= epoch_counter\n",
    "    train_acc /= epoch_counter\n",
    "\n",
    "    test_acc_counter = 0.0\n",
    "    test_acc = 0.0\n",
    "    for batch in get_streamed_data(mnist_test, batch_size=32, shuffled=False):\n",
    "        X, y = batch[\"image\"], batch[\"label\"]\n",
    "        X, y = mx.array(X), mx.array(y)\n",
    "        acc = eval_fn(model, X, y)\n",
    "        test_acc += acc.item()\n",
    "        test_acc_counter += 1\n",
    "    test_acc /= test_acc_counter\n",
    "    print(f\"Epoch: {epoch} | Train Loss: {epoch_loss}, Train Accuracy: {train_acc} | Test Accuracy: {test_acc}\")"
   ]
  },
  {
   "cell_type": "code",
   "execution_count": 31,
   "id": "055cd077-85bc-4bf9-9aaf-1b296ac7652d",
   "metadata": {},
   "outputs": [
    {
     "name": "stdout",
     "output_type": "stream",
     "text": [
      "Logits: array([[-17.4811, 11.5071, 1.11678, ..., 3.60365, 2.41011, -0.496639]], dtype=float32)\n",
      "Softmax-ed: array([[2.57152e-13, 0.999043, 3.06996e-05, ..., 0.000369118, 0.000111896, 6.11551e-06]], dtype=float32)\n",
      "Predicted label: 1, True label: 1 | Confidence level: 0.9990426898002625\n"
     ]
    }
   ],
   "source": [
    "# Testing out with one random sample\n",
    "test_stream = get_streamed_data(mnist_test, batch_size=1)\n",
    "test_batch = next(test_stream)\n",
    "X, y = mx.array(test_batch[\"image\"]), mx.array(test_batch[\"label\"])\n",
    "\n",
    "# See how the model produce logits\n",
    "logits = model(X)\n",
    "print(f\"Logits: {logits}\")\n",
    "\n",
    "# See we can compute the softmax from the logits\n",
    "softmax = nn.softmax(logits)\n",
    "print(f\"Softmax-ed: {softmax}\")\n",
    "\n",
    "# Get predicted label and true label\n",
    "predicted_label = mx.argmax(softmax, axis=1).item()\n",
    "confidence_level = mx.max(softmax, axis=1).item()\n",
    "print(f\"Predicted label: {predicted_label}, True label: {y.item()} | Confidence level: {confidence_level}\")"
   ]
  },
  {
   "cell_type": "code",
   "execution_count": 32,
   "id": "a6269604-bd5a-42eb-84d2-7fb039f8f690",
   "metadata": {},
   "outputs": [
    {
     "name": "stdout",
     "output_type": "stream",
     "text": [
      "Precision: 0.9732036476078967\n",
      "Recall: 0.9726\n",
      "F1 Score: 0.9726088335845876\n"
     ]
    }
   ],
   "source": [
    "# get precision, recall, and f1-score\n",
    "from sklearn.metrics import f1_score, precision_score, recall_score\n",
    "import numpy as np\n",
    "\n",
    "y_true = []\n",
    "y_pred = []\n",
    "for batch in get_streamed_data(mnist_test, batch_size=32, shuffled=False):\n",
    "    X, y = batch[\"image\"], batch[\"label\"]\n",
    "    X, y = mx.array(X), mx.array(y)\n",
    "    logits = model(X)\n",
    "    prediction = mx.argmax(mx.softmax(logits), axis=1)\n",
    "    y_true = y_true + y.tolist()\n",
    "    y_pred = y_pred + prediction.tolist()\n",
    "    \n",
    "y_true = np.array(y_true)\n",
    "y_pred = np.array(y_pred)\n",
    "\n",
    "precision = precision_score(y_true, y_pred, average=\"weighted\")\n",
    "recall = recall_score(y_true, y_pred, average=\"weighted\")\n",
    "f1 = f1_score(y_true, y_pred, average=\"weighted\")\n",
    "print(f\"Precision: {precision}\\nRecall: {recall}\\nF1 Score: {f1}\")"
   ]
  },
  {
   "cell_type": "code",
   "execution_count": 33,
   "id": "8fc39cb1-2ea0-4b47-a2f1-65f5834f50d3",
   "metadata": {},
   "outputs": [
    {
     "data": {
      "image/png": "[encoded data removed]",
      "text/plain": [
       "<Figure size 640x480 with 2 Axes>"
      ]
     },
     "metadata": {},
     "output_type": "display_data"
    }
   ],
   "source": [
    "from sklearn.metrics import confusion_matrix, ConfusionMatrixDisplay\n",
    "import matplotlib.pyplot as plt\n",
    "\n",
    "conf_matrix = confusion_matrix(y_true, y_pred)\n",
    "display = ConfusionMatrixDisplay(conf_matrix)\n",
    "display.plot(cmap=plt.cm.Blues)\n",
    "plt.show()"
   ]
  },
  {
   "cell_type": "code",
   "execution_count": null,
   "id": "116aefaf-8ece-4879-ab41-ef3c14818d41",
   "metadata": {},
   "outputs": [],
   "source": []
  }
 ],
 "metadata": {
  "kernelspec": {
   "display_name": "Python 3 (ipykernel)",
   "language": "python",
   "name": "python3"
  },
  "language_info": {
   "codemirror_mode": {
    "name": "ipython",
    "version": 3
   },
   "file_extension": ".py",
   "mimetype": "text/x-python",
   "name": "python",
   "nbconvert_exporter": "python",
   "pygments_lexer": "ipython3",
   "version": "3.11.8"
  }
 },
 "nbformat": 4,
 "nbformat_minor": 5
}

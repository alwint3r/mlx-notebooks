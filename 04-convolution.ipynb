{
 "cells": [
  {
   "cell_type": "code",
   "execution_count": 1,
   "id": "30b30750-df40-4f62-aeee-cde2a95cdd29",
   "metadata": {},
   "outputs": [],
   "source": [
    "import mlx.core as mx\n",
    "import mlx.nn as nn\n",
    "from mlx.data import datasets"
   ]
  },
  {
   "cell_type": "code",
   "execution_count": 2,
   "id": "49284c4d-d3af-48c8-b3a6-d382b1b88097",
   "metadata": {},
   "outputs": [],
   "source": [
    "# Load training set\n",
    "mnist_train = datasets.load_mnist(train=True)"
   ]
  },
  {
   "cell_type": "code",
   "execution_count": 3,
   "id": "6ebffaab-21ed-4725-97f9-43c8f7935642",
   "metadata": {},
   "outputs": [],
   "source": [
    "def get_streamed_data(data, batch_size=0, shuffled=True):\n",
    "    buffer = data.shuffle() if shuffled else data\n",
    "    stream = buffer.to_stream()\n",
    "    stream = stream.key_transform(\"image\", lambda x: x.astype(\"float32\"))\n",
    "    stream = stream.batch(batch_size) if batch_size > 0 else stream\n",
    "    return stream.prefetch(4, 2)"
   ]
  },
  {
   "cell_type": "code",
   "execution_count": 4,
   "id": "3e13269b-41d3-46c3-9b6b-fe316da955fd",
   "metadata": {},
   "outputs": [
    {
     "data": {
      "text/plain": [
       "((32, 28, 28, 1), (32,))"
      ]
     },
     "execution_count": 4,
     "metadata": {},
     "output_type": "execute_result"
    }
   ],
   "source": [
    "mnist_trainstream = get_streamed_data(data=mnist_train, batch_size=32, shuffled=True)\n",
    "\n",
    "batch = next(mnist_trainstream)\n",
    "X, y = mx.array(batch[\"image\"]), mx.array(batch[\"label\"])\n",
    "\n",
    "X.shape, y.shape"
   ]
  },
  {
   "cell_type": "code",
   "execution_count": 5,
   "id": "1881c51d-f970-44b3-a1dd-4c15335cef18",
   "metadata": {},
   "outputs": [
    {
     "data": {
      "text/plain": [
       "(32, 27, 27, 1)"
      ]
     },
     "execution_count": 5,
     "metadata": {},
     "output_type": "execute_result"
    }
   ],
   "source": [
    "# Create a convolution layer with kernel_size 2x2 and 1 stride\n",
    "conv2d = nn.Conv2d(\n",
    "    in_channels=X.shape[-1],\n",
    "    out_channels=1,\n",
    "    kernel_size=2,\n",
    "    padding=0,\n",
    "    stride=1,\n",
    ")\n",
    "\n",
    "res = conv2d(X)\n",
    "res.shape"
   ]
  },
  {
   "cell_type": "code",
   "execution_count": 6,
   "id": "dc64e802-bb5e-4560-94b4-53bc7cff7bfa",
   "metadata": {},
   "outputs": [
    {
     "name": "stdout",
     "output_type": "stream",
     "text": [
      "Output image: 27.0 x 27.0\n",
      "Output image: 14.0 x 14.0\n"
     ]
    }
   ],
   "source": [
    "# Calculating output dimension of a Conv2d layer\n",
    "def get_output_dim(width, stride, kernel_size, padding):\n",
    "    \"\"\"\n",
    "    Assuming that the input image has dimension of width x width (square image).\n",
    "    We only need the width in this case\n",
    "    \"\"\" \n",
    "    return ((width - kernel_size + (2 * padding)) / stride) + 1\n",
    "\n",
    "output_dim = get_output_dim(X.shape[1], 1, 2, 0)\n",
    "print(f\"Output image: {output_dim} x {output_dim}\")\n",
    "\n",
    "stride = 2\n",
    "padding = 0\n",
    "kernel_size = 2\n",
    "\n",
    "output_dim = get_output_dim(X.shape[1], stride, kernel_size, padding)\n",
    "print(f\"Output image: {output_dim} x {output_dim}\")"
   ]
  },
  {
   "cell_type": "code",
   "execution_count": 8,
   "id": "ee37b144-ddae-41a3-b8e9-28fcae9c27a2",
   "metadata": {},
   "outputs": [
    {
     "data": {
      "text/plain": [
       "(32, 13, 13, 1)"
      ]
     },
     "execution_count": 8,
     "metadata": {},
     "output_type": "execute_result"
    }
   ],
   "source": [
    "# Pooling layer\n",
    "pool2d = nn.MaxPool2d(kernel_size=2, stride=2)\n",
    "output = pool2d(res)\n",
    "output.shape"
   ]
  },
  {
   "cell_type": "code",
   "execution_count": 10,
   "id": "0039528f-f8f6-40bd-a702-45023f2ce527",
   "metadata": {},
   "outputs": [
    {
     "name": "stdout",
     "output_type": "stream",
     "text": [
      "Pooling layer output w x h -> 14.0 x 14.0\n"
     ]
    }
   ],
   "source": [
    "def get_pooling_layer_out_dim(width, height, stride, kernel_size, padding):\n",
    "    \"\"\"\n",
    "    Assuming that stride and kernel is a square (e.g., 2x2)\n",
    "    \"\"\"\n",
    "    w_out = ((width + 2 * padding - kernel_size) / stride) + 1\n",
    "    h_out = ((height + 2 * padding - kernel_size) / stride) + 1\n",
    "    return w_out, h_out\n",
    "\n",
    "w_out, h_out = get_pooling_layer_out_dim(X.shape[1], X.shape[1], stride, kernel_size, padding)\n",
    "print(f\"Pooling layer output w x h -> {w_out} x {h_out}\")"
   ]
  },
  {
   "cell_type": "code",
   "execution_count": null,
   "id": "5e81ce9c-a084-4958-bbf7-b7e5388c65b7",
   "metadata": {},
   "outputs": [],
   "source": []
  }
 ],
 "metadata": {
  "kernelspec": {
   "display_name": "Python 3 (ipykernel)",
   "language": "python",
   "name": "python3"
  },
  "language_info": {
   "codemirror_mode": {
    "name": "ipython",
    "version": 3
   },
   "file_extension": ".py",
   "mimetype": "text/x-python",
   "name": "python",
   "nbconvert_exporter": "python",
   "pygments_lexer": "ipython3",
   "version": "3.11.8"
  }
 },
 "nbformat": 4,
 "nbformat_minor": 5
}
